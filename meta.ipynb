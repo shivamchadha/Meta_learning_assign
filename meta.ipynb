{
 "cells": [
  {
   "cell_type": "code",
   "execution_count": 1,
   "metadata": {},
   "outputs": [],
   "source": [
    "import pandas as pd\n",
    "import numpy as np\n",
    "import matplotlib.pyplot as plt\n",
    "\n",
    "from sklearn.model_selection import train_test_split\n",
    "from sklearn.decomposition import PCA\n",
    "\n",
    "from sklearn.neighbors import KNeighborsClassifier as Knn\n",
    "from sklearn.ensemble import RandomForestClassifier as rfc \n",
    "from sklearn.ensemble import AdaBoostClassifier as ABC\n",
    "from sklearn.svm import SVC\n",
    "\n",
    "from sklearn.metrics import precision_recall_fscore_support as score\n",
    "from sklearn.metrics import accuracy_score"
   ]
  },
  {
   "cell_type": "code",
   "execution_count": 2,
   "metadata": {},
   "outputs": [
    {
     "name": "stdout",
     "output_type": "stream",
     "text": [
      "(18370, 271)\n"
     ]
    },
    {
     "data": {
      "text/html": [
       "<div>\n",
       "<style scoped>\n",
       "    .dataframe tbody tr th:only-of-type {\n",
       "        vertical-align: middle;\n",
       "    }\n",
       "\n",
       "    .dataframe tbody tr th {\n",
       "        vertical-align: top;\n",
       "    }\n",
       "\n",
       "    .dataframe thead th {\n",
       "        text-align: right;\n",
       "    }\n",
       "</style>\n",
       "<table border=\"1\" class=\"dataframe\">\n",
       "  <thead>\n",
       "    <tr style=\"text-align: right;\">\n",
       "      <th></th>\n",
       "      <th>TS_0</th>\n",
       "      <th>TS_1</th>\n",
       "      <th>TS_2</th>\n",
       "      <th>TS_3</th>\n",
       "      <th>TS_4</th>\n",
       "      <th>TS_5</th>\n",
       "      <th>TS_6</th>\n",
       "      <th>TS_7</th>\n",
       "      <th>TS_8</th>\n",
       "      <th>TS_9</th>\n",
       "      <th>...</th>\n",
       "      <th>TS_261</th>\n",
       "      <th>TS_262</th>\n",
       "      <th>TS_263</th>\n",
       "      <th>TS_264</th>\n",
       "      <th>TS_265</th>\n",
       "      <th>TS_266</th>\n",
       "      <th>TS_267</th>\n",
       "      <th>TS_268</th>\n",
       "      <th>TS_269</th>\n",
       "      <th>CLASS</th>\n",
       "    </tr>\n",
       "  </thead>\n",
       "  <tbody>\n",
       "    <tr>\n",
       "      <th>0</th>\n",
       "      <td>-127.0</td>\n",
       "      <td>-267.0</td>\n",
       "      <td>-241.0</td>\n",
       "      <td>-229.0</td>\n",
       "      <td>-215.0</td>\n",
       "      <td>-201.0</td>\n",
       "      <td>-253.0</td>\n",
       "      <td>-273.0</td>\n",
       "      <td>-226.0</td>\n",
       "      <td>-172.0</td>\n",
       "      <td>...</td>\n",
       "      <td>-29.0</td>\n",
       "      <td>-22.0</td>\n",
       "      <td>-19.0</td>\n",
       "      <td>-22.0</td>\n",
       "      <td>-43.0</td>\n",
       "      <td>-53.0</td>\n",
       "      <td>-23.0</td>\n",
       "      <td>22.0</td>\n",
       "      <td>-31.0</td>\n",
       "      <td>N</td>\n",
       "    </tr>\n",
       "    <tr>\n",
       "      <th>1</th>\n",
       "      <td>-41.0</td>\n",
       "      <td>663.0</td>\n",
       "      <td>-39.0</td>\n",
       "      <td>-113.0</td>\n",
       "      <td>-81.0</td>\n",
       "      <td>-67.0</td>\n",
       "      <td>-45.0</td>\n",
       "      <td>34.0</td>\n",
       "      <td>82.0</td>\n",
       "      <td>62.0</td>\n",
       "      <td>...</td>\n",
       "      <td>-22.0</td>\n",
       "      <td>42.0</td>\n",
       "      <td>104.0</td>\n",
       "      <td>32.0</td>\n",
       "      <td>2.0</td>\n",
       "      <td>2.0</td>\n",
       "      <td>-13.0</td>\n",
       "      <td>-16.0</td>\n",
       "      <td>6.0</td>\n",
       "      <td>N</td>\n",
       "    </tr>\n",
       "    <tr>\n",
       "      <th>2</th>\n",
       "      <td>7.0</td>\n",
       "      <td>7.0</td>\n",
       "      <td>12.0</td>\n",
       "      <td>18.0</td>\n",
       "      <td>36.0</td>\n",
       "      <td>80.0</td>\n",
       "      <td>0.0</td>\n",
       "      <td>-19.0</td>\n",
       "      <td>418.0</td>\n",
       "      <td>248.0</td>\n",
       "      <td>...</td>\n",
       "      <td>-22.0</td>\n",
       "      <td>-33.0</td>\n",
       "      <td>-31.0</td>\n",
       "      <td>-34.0</td>\n",
       "      <td>-11.0</td>\n",
       "      <td>1.0</td>\n",
       "      <td>-8.0</td>\n",
       "      <td>12.0</td>\n",
       "      <td>62.0</td>\n",
       "      <td>N</td>\n",
       "    </tr>\n",
       "    <tr>\n",
       "      <th>3</th>\n",
       "      <td>128.0</td>\n",
       "      <td>268.0</td>\n",
       "      <td>244.0</td>\n",
       "      <td>209.0</td>\n",
       "      <td>194.0</td>\n",
       "      <td>234.0</td>\n",
       "      <td>203.0</td>\n",
       "      <td>188.0</td>\n",
       "      <td>211.0</td>\n",
       "      <td>228.0</td>\n",
       "      <td>...</td>\n",
       "      <td>-70.0</td>\n",
       "      <td>-62.0</td>\n",
       "      <td>-44.0</td>\n",
       "      <td>393.0</td>\n",
       "      <td>-74.0</td>\n",
       "      <td>-84.0</td>\n",
       "      <td>-65.0</td>\n",
       "      <td>-30.0</td>\n",
       "      <td>-6.0</td>\n",
       "      <td>N</td>\n",
       "    </tr>\n",
       "    <tr>\n",
       "      <th>4</th>\n",
       "      <td>13.0</td>\n",
       "      <td>54.0</td>\n",
       "      <td>80.0</td>\n",
       "      <td>56.0</td>\n",
       "      <td>-36.0</td>\n",
       "      <td>1469.0</td>\n",
       "      <td>-199.0</td>\n",
       "      <td>-180.0</td>\n",
       "      <td>-177.0</td>\n",
       "      <td>-126.0</td>\n",
       "      <td>...</td>\n",
       "      <td>-15.0</td>\n",
       "      <td>-37.0</td>\n",
       "      <td>-50.0</td>\n",
       "      <td>-21.0</td>\n",
       "      <td>30.0</td>\n",
       "      <td>17.0</td>\n",
       "      <td>1571.0</td>\n",
       "      <td>-165.0</td>\n",
       "      <td>-201.0</td>\n",
       "      <td>N</td>\n",
       "    </tr>\n",
       "  </tbody>\n",
       "</table>\n",
       "<p>5 rows × 271 columns</p>\n",
       "</div>"
      ],
      "text/plain": [
       "    TS_0   TS_1   TS_2   TS_3   TS_4    TS_5   TS_6   TS_7   TS_8   TS_9  ...  \\\n",
       "0 -127.0 -267.0 -241.0 -229.0 -215.0  -201.0 -253.0 -273.0 -226.0 -172.0  ...   \n",
       "1  -41.0  663.0  -39.0 -113.0  -81.0   -67.0  -45.0   34.0   82.0   62.0  ...   \n",
       "2    7.0    7.0   12.0   18.0   36.0    80.0    0.0  -19.0  418.0  248.0  ...   \n",
       "3  128.0  268.0  244.0  209.0  194.0   234.0  203.0  188.0  211.0  228.0  ...   \n",
       "4   13.0   54.0   80.0   56.0  -36.0  1469.0 -199.0 -180.0 -177.0 -126.0  ...   \n",
       "\n",
       "   TS_261  TS_262  TS_263  TS_264  TS_265  TS_266  TS_267  TS_268  TS_269  \\\n",
       "0   -29.0   -22.0   -19.0   -22.0   -43.0   -53.0   -23.0    22.0   -31.0   \n",
       "1   -22.0    42.0   104.0    32.0     2.0     2.0   -13.0   -16.0     6.0   \n",
       "2   -22.0   -33.0   -31.0   -34.0   -11.0     1.0    -8.0    12.0    62.0   \n",
       "3   -70.0   -62.0   -44.0   393.0   -74.0   -84.0   -65.0   -30.0    -6.0   \n",
       "4   -15.0   -37.0   -50.0   -21.0    30.0    17.0  1571.0  -165.0  -201.0   \n",
       "\n",
       "   CLASS  \n",
       "0      N  \n",
       "1      N  \n",
       "2      N  \n",
       "3      N  \n",
       "4      N  \n",
       "\n",
       "[5 rows x 271 columns]"
      ]
     },
     "execution_count": 2,
     "metadata": {},
     "output_type": "execute_result"
    }
   ],
   "source": [
    "df = pd.read_csv(r\"physionet_A_N.csv\")\n",
    "print(df.shape)\n",
    "df.head()"
   ]
  },
  {
   "attachments": {},
   "cell_type": "markdown",
   "metadata": {},
   "source": [
    "a 1)  \n",
    "Time series data  \n",
    "Categorical labels and continuous featues\n"
   ]
  },
  {
   "cell_type": "code",
   "execution_count": 3,
   "metadata": {},
   "outputs": [
    {
     "data": {
      "text/plain": [
       "298"
      ]
     },
     "execution_count": 3,
     "metadata": {},
     "output_type": "execute_result"
    }
   ],
   "source": [
    "corr = df.corr()>0.5\n",
    "corr.values.sum()//2"
   ]
  },
  {
   "attachments": {},
   "cell_type": "markdown",
   "metadata": {},
   "source": [
    "a 2)"
   ]
  },
  {
   "attachments": {},
   "cell_type": "markdown",
   "metadata": {},
   "source": [
    "Features are correlatded, we'll use pca"
   ]
  },
  {
   "cell_type": "code",
   "execution_count": 4,
   "metadata": {},
   "outputs": [],
   "source": [
    "X = df.iloc[:,:-1]\n",
    "y = df.iloc[:,-1]\n"
   ]
  },
  {
   "attachments": {},
   "cell_type": "markdown",
   "metadata": {},
   "source": [
    "a 3)"
   ]
  },
  {
   "cell_type": "code",
   "execution_count": 5,
   "metadata": {},
   "outputs": [
    {
     "data": {
      "text/plain": [
       "183"
      ]
     },
     "execution_count": 5,
     "metadata": {},
     "output_type": "execute_result"
    }
   ],
   "source": [
    "pca = PCA(n_components = 'mle')\n",
    "Xt = pca.fit_transform(X)\n",
    "Xt.shape[1]"
   ]
  },
  {
   "attachments": {},
   "cell_type": "markdown",
   "metadata": {},
   "source": [
    "a 4)"
   ]
  },
  {
   "cell_type": "code",
   "execution_count": 18,
   "metadata": {},
   "outputs": [],
   "source": [
    "yt = pd.factorize(y)[0]  # for convention\n",
    "X_train, X_test, y_train, y_test = train_test_split(Xt, yt, test_size=0.2, random_state=42,stratify=yt);"
   ]
  },
  {
   "cell_type": "code",
   "execution_count": 7,
   "metadata": {},
   "outputs": [],
   "source": [
    "def metrics(y_pred,y_pred_train):\n",
    "    train_acc = accuracy_score(y_train,y_pred_train)  # train predictions\n",
    "    acc = accuracy_score(y_test,y_pred)\n",
    "    precisiont, recallt, fscoret,_ = score(y_train,y_pred_train,average = 'macro',zero_division=0)\n",
    "    precision, recall, fscore,_ = score(y_test,y_pred,average = 'macro',zero_division=0)\n",
    "    scores = pd.DataFrame( columns = ['metric','Train','Test'])\n",
    "    scores.metric =  ['Accuarcy','Precision','Recall','F1']\n",
    "    scores.Train = [train_acc,precisiont, recallt, fscoret]\n",
    "    scores.Test = [acc,precision, recall, fscore]\n",
    "    print(scores)"
   ]
  },
  {
   "attachments": {},
   "cell_type": "markdown",
   "metadata": {},
   "source": [
    "b)"
   ]
  },
  {
   "cell_type": "code",
   "execution_count": 8,
   "metadata": {},
   "outputs": [
    {
     "name": "stdout",
     "output_type": "stream",
     "text": [
      "      metric     Train      Test\n",
      "0   Accuarcy  0.872754  0.872891\n",
      "1  Precision  0.769753  0.936428\n",
      "2     Recall  0.500990  0.501068\n",
      "3         F1  0.468147  0.468188\n"
     ]
    }
   ],
   "source": [
    "knn  = Knn(n_neighbors = 10) \n",
    "knn.fit(X_train,y_train); \n",
    "y_pred_train = knn.predict(X_train)  \n",
    "y_pred = knn.predict(X_test)   # test predictions\n",
    "metrics(y_pred,y_pred_train)"
   ]
  },
  {
   "cell_type": "code",
   "execution_count": 9,
   "metadata": {},
   "outputs": [
    {
     "name": "stdout",
     "output_type": "stream",
     "text": [
      "      metric  Train      Test\n",
      "0   Accuarcy    1.0  0.871802\n",
      "1  Precision    1.0  0.436257\n",
      "2     Recall    1.0  0.499532\n",
      "3         F1    1.0  0.465755\n"
     ]
    }
   ],
   "source": [
    "rf = rfc()\n",
    "rf.fit(X_train,y_train)\n",
    "y_pred_train = rf.predict(X_train)  \n",
    "y_pred = rf.predict(X_test)  \n",
    "metrics(y_pred,y_pred_train)"
   ]
  },
  {
   "attachments": {},
   "cell_type": "markdown",
   "metadata": {},
   "source": [
    "C)  \n",
    "As we can see even though the accuracy is good. Precision and Recall are both bad, we can use F1 to get a general sense of the model's performance.    \n",
    "Now considering we want to make sure that a positive case is not labeled negative we should minimize false negatives. We will use recall from here on"
   ]
  },
  {
   "cell_type": "code",
   "execution_count": 10,
   "metadata": {},
   "outputs": [
    {
     "data": {
      "text/plain": [
       "(array([0, 1], dtype=int64), array([16030,  2340], dtype=int64))"
      ]
     },
     "execution_count": 10,
     "metadata": {},
     "output_type": "execute_result"
    }
   ],
   "source": [
    "np.unique(yt,return_counts=True)"
   ]
  },
  {
   "attachments": {},
   "cell_type": "markdown",
   "metadata": {},
   "source": [
    "The data is imbalanced, the number of positive cases are very low, so we should either upsample positive class or downsample negative class."
   ]
  },
  {
   "attachments": {},
   "cell_type": "markdown",
   "metadata": {},
   "source": [
    "d )  \n",
    "We can oversample our positive class if we want to work on the data.  \n",
    "Otherwise we can put some weights to our model to penalize wrong classification of the positive class more "
   ]
  },
  {
   "attachments": {},
   "cell_type": "markdown",
   "metadata": {},
   "source": [
    "Generally Random Forest is capable of determining feature importances, so here we'll show how giving weights to classes affect the SVM classifier"
   ]
  },
  {
   "attachments": {},
   "cell_type": "markdown",
   "metadata": {},
   "source": [
    "## Setting Class Weight"
   ]
  },
  {
   "cell_type": "code",
   "execution_count": 19,
   "metadata": {},
   "outputs": [
    {
     "name": "stdout",
     "output_type": "stream",
     "text": [
      "SVM\n",
      "      metric     Train      Test\n",
      "0   Accuarcy  0.879491  0.872618\n",
      "1  Precision  0.939329  0.436309\n",
      "2     Recall  0.526976  0.500000\n",
      "3         F1  0.518896  0.465988\n"
     ]
    }
   ],
   "source": [
    "print(\"SVM\")\n",
    "svm = SVC(kernel = 'rbf')\n",
    "svm.fit(X_train, y_train)\n",
    "y_pred_train = svm.predict(X_train)  \n",
    "y_pred = svm.predict(X_test)  \n",
    "metrics(y_pred,y_pred_train)"
   ]
  },
  {
   "cell_type": "code",
   "execution_count": 12,
   "metadata": {},
   "outputs": [
    {
     "name": "stdout",
     "output_type": "stream",
     "text": [
      "Weighted SVM\n",
      "      metric     Train      Test\n",
      "0   Accuarcy  0.774565  0.680457\n",
      "1  Precision  0.672823  0.557841\n",
      "2     Recall  0.848702  0.614349\n",
      "3         F1  0.685106  0.544350\n"
     ]
    }
   ],
   "source": [
    "print('Weighted SVM')\n",
    "svm = SVC(kernel = 'rbf',class_weight='balanced', probability=True)\n",
    "svm.fit(X_train, y_train)\n",
    "y_pred_train = svm.predict(X_train)  \n",
    "y_pred = svm.predict(X_test)  \n",
    "metrics(y_pred,y_pred_train)"
   ]
  },
  {
   "attachments": {},
   "cell_type": "markdown",
   "metadata": {},
   "source": [
    "while the results are not satisfactory, they are still an improvement from the last case. Where one clases was not even predicted"
   ]
  },
  {
   "attachments": {},
   "cell_type": "markdown",
   "metadata": {},
   "source": [
    "Now we upsample the positive class and see how the classifier changes."
   ]
  },
  {
   "attachments": {},
   "cell_type": "markdown",
   "metadata": {},
   "source": [
    "## Upsampling"
   ]
  },
  {
   "cell_type": "code",
   "execution_count": 13,
   "metadata": {},
   "outputs": [],
   "source": [
    "class1 = y_train==1\n",
    "X_train = np.append(X_train,X_train[class1].repeat(6,axis=0),axis=0)\n",
    "y_train = np.append(y_train,y_train[class1].repeat(6,axis=0),axis=0)"
   ]
  },
  {
   "cell_type": "code",
   "execution_count": 14,
   "metadata": {},
   "outputs": [
    {
     "name": "stdout",
     "output_type": "stream",
     "text": [
      "Knn\n",
      "      metric     Train      Test\n",
      "0   Accuarcy  0.901612  0.710942\n",
      "1  Precision  0.918524  0.539980\n",
      "2     Recall  0.900538  0.568859\n",
      "3         F1  0.900425  0.535486\n",
      "SVM\n",
      "      metric     Train      Test\n",
      "0   Accuarcy  0.906279  0.744692\n",
      "1  Precision  0.914243  0.571641\n",
      "2     Recall  0.905542  0.618308\n",
      "3         F1  0.905704  0.576342\n",
      "Random Forest\n",
      "      metric  Train      Test\n",
      "0   Accuarcy    1.0  0.872618\n",
      "1  Precision    1.0  0.436309\n",
      "2     Recall    1.0  0.500000\n",
      "3         F1    1.0  0.465988\n"
     ]
    }
   ],
   "source": [
    "print('Knn')\n",
    "knn  = Knn(n_neighbors = 10,weights='uniform', metric='minkowski',p=2) \n",
    "knn.fit(X_train,y_train); \n",
    "y_pred_train = knn.predict(X_train)  \n",
    "y_pred = knn.predict(X_test)   # test predictions\n",
    "metrics(y_pred,y_pred_train)\n",
    "\n",
    "\n",
    "print('SVM')\n",
    "svm = SVC(kernel = 'rbf')\n",
    "svm.fit(X_train, y_train)\n",
    "y_pred_train = svm.predict(X_train)  \n",
    "y_pred = svm.predict(X_test)  \n",
    "metrics(y_pred,y_pred_train)\n",
    "\n",
    "print('Random Forest')\n",
    "\n",
    "rf = rfc(bootstrap=  True,class_weight=\"balanced_subsample\")\n",
    "rf.fit(X_train,y_train)\n",
    "y_pred_train = rf.predict(X_train)  \n",
    "y_pred = rf.predict(X_test)  \n",
    "metrics(y_pred,y_pred_train)"
   ]
  },
  {
   "cell_type": "code",
   "execution_count": 17,
   "metadata": {},
   "outputs": [
    {
     "name": "stdout",
     "output_type": "stream",
     "text": [
      "Adaboost\n",
      "      metric     Train      Test\n",
      "0   Accuarcy  0.643937  0.583016\n",
      "1  Precision  0.646075  0.555535\n",
      "2     Recall  0.643193  0.624210\n",
      "3         F1  0.641878  0.498803\n"
     ]
    }
   ],
   "source": [
    "print(\"Adaboost\")\n",
    "abc = ABC(learning_rate=0.1, n_estimators=100)\n",
    "abc.fit(X_train,y_train)\n",
    "y_pred_train = abc.predict(X_train)  \n",
    "y_pred = abc.predict(X_test)  \n",
    "metrics(y_pred,y_pred_train)"
   ]
  },
  {
   "attachments": {},
   "cell_type": "markdown",
   "metadata": {},
   "source": [
    "This is the best we are getting.  \n",
    "Generally getting great results on ECG/EEG signal is hard without some form of feature engineering. And as we are conisdering this to be a static wave, we are not trying to extract features.    \n",
    "Deep learning classifiers can better extract features and classify."
   ]
  }
 ],
 "metadata": {
  "kernelspec": {
   "display_name": "Python 3",
   "language": "python",
   "name": "python3"
  },
  "language_info": {
   "codemirror_mode": {
    "name": "ipython",
    "version": 3
   },
   "file_extension": ".py",
   "mimetype": "text/x-python",
   "name": "python",
   "nbconvert_exporter": "python",
   "pygments_lexer": "ipython3",
   "version": "3.10.4"
  },
  "orig_nbformat": 4,
  "vscode": {
   "interpreter": {
    "hash": "37a27d0e5b469d6519fba8d674fca678a9e423d1818ec628dd8efc12286d08bf"
   }
  }
 },
 "nbformat": 4,
 "nbformat_minor": 2
}
